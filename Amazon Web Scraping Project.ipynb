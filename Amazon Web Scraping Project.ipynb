{
 "cells": [
  {
   "cell_type": "code",
   "execution_count": 35,
   "id": "d8cd264d",
   "metadata": {},
   "outputs": [],
   "source": [
    "from bs4 import BeautifulSoup\n",
    "import requests\n",
    "import time\n",
    "import datetime\n",
    "import csv\n",
    "import pandas as pd\n",
    "\n",
    "import smtplib"
   ]
  },
  {
   "cell_type": "code",
   "execution_count": 36,
   "id": "30100469",
   "metadata": {},
   "outputs": [
    {
     "name": "stdout",
     "output_type": "stream",
     "text": [
      "\n",
      "                   Nike Baseball\n",
      "                  \n",
      "\n",
      "\n",
      "\n",
      "\n",
      "\n",
      "                  $28.95\n",
      "                 \n",
      "\n",
      "\n",
      "                   $\n",
      "                  \n",
      "\n",
      "                   28\n",
      "                   \n",
      "                    .\n",
      "                   \n",
      "\n",
      "\n",
      "                   95\n",
      "                  \n",
      "\n",
      "\n",
      "\n",
      "\n",
      "\n",
      "\n",
      "\n",
      "\n",
      "\n",
      "\n",
      "\n"
     ]
    }
   ],
   "source": [
    "# Connect to the website - preferred item URL & httpbin.org/get\n",
    "\n",
    "URL = 'https://www.amazon.com/Nike-Mens-Baseball-Black-Size/dp/B08NYJX7D1/ref=sr_1_17?crid=1DPI3I200DC4G&keywords=nike%2Bhat&qid=1653664112&sprefix=nike%2Bhat%2Caps%2C87&sr=8-17&th=1&psc=1'\n",
    "\n",
    "headers = {\"User-Agent\": \"Mozilla/5.0 (Windows NT 10.0; Win64; x64) AppleWebKit/537.36 (KHTML, like Gecko) Chrome/101.0.4951.67 Safari/537.36\", \"Accept-Encoding\":\"gzip, deflate\", \"Accept\": \"text/html,application/xhtml+xml,application/xml;q=0.9,*/*;q=0.8\", \"DNT\":\"1\",\"Connection\":\"close\", \"Upgrade-Insecure-Requests\":\"1\"}\n",
    "\n",
    "page = requests.get(URL, headers=headers)\n",
    "\n",
    "soup1 = BeautifulSoup(page.content, 'html.parser')\n",
    "\n",
    "soup2 = BeautifulSoup(soup1.prettify(), 'html.parser')\n",
    "\n",
    "title = soup2.find(id='productTitle').get_text()\n",
    "\n",
    "price = soup2.find(id='corePriceDisplay_desktop_feature_div').get_text()\n",
    "\n",
    "\n",
    "print(title)\n",
    "print(price)\n"
   ]
  },
  {
   "cell_type": "code",
   "execution_count": 37,
   "id": "01f01d03",
   "metadata": {},
   "outputs": [
    {
     "name": "stdout",
     "output_type": "stream",
     "text": [
      "Nike Baseball\n",
      "28.95\n"
     ]
    }
   ],
   "source": [
    "# Cleaning Title & Price\n",
    "\n",
    "price = price.strip()[1:6]\n",
    "title = title.strip()\n",
    "\n",
    "print(title)\n",
    "print(price)"
   ]
  },
  {
   "cell_type": "code",
   "execution_count": 38,
   "id": "224ee3f0",
   "metadata": {},
   "outputs": [
    {
     "name": "stdout",
     "output_type": "stream",
     "text": [
      "2022-05-27\n"
     ]
    }
   ],
   "source": [
    "# Adding timestamp\n",
    "\n",
    "today = datetime.date.today()\n",
    "print(today)"
   ]
  },
  {
   "cell_type": "code",
   "execution_count": 39,
   "id": "0d2de8ed",
   "metadata": {},
   "outputs": [],
   "source": [
    "# Creating csv file\n",
    "\n",
    "header = ['Title', 'Price', 'Date']\n",
    "data = [title, price, today]\n",
    "\n",
    "# Make sure you run this on first attempt and comment out if you would like to restart as it would delete data\n",
    "with open('AmazonWebScrapingDataset.csv', 'w', newline='', encoding='UTF8') as f:\n",
    "    writer = csv.writer(f)\n",
    "    writer.writerow(header)\n",
    "    writer.writerow(data)"
   ]
  },
  {
   "cell_type": "code",
   "execution_count": 40,
   "id": "42cfb27a",
   "metadata": {},
   "outputs": [
    {
     "name": "stdout",
     "output_type": "stream",
     "text": [
      "           Title  Price        Date\n",
      "0  Nike Baseball  28.95  2022-05-27\n"
     ]
    }
   ],
   "source": [
    "df = pd.read_csv(r'C:\\Users\\Administrator\\AmazonWebScrapingDataset.csv')\n",
    "\n",
    "print(df)"
   ]
  },
  {
   "cell_type": "code",
   "execution_count": null,
   "id": "02131209",
   "metadata": {},
   "outputs": [],
   "source": [
    "# Appending data to csv\n",
    "\n",
    "with open('AmazonWebScrapingDataset.csv', 'a+', newline='', encoding='UTF8') as f:\n",
    "    writer = csv.writer(f)\n",
    "    writer.writerow(data)"
   ]
  },
  {
   "cell_type": "code",
   "execution_count": 41,
   "id": "3c596e1b",
   "metadata": {},
   "outputs": [],
   "source": [
    "\n",
    "def check_price():\n",
    "    URL = 'https://www.amazon.com/Nike-Mens-Baseball-Black-Size/dp/B08NYJX7D1/ref=sr_1_17?crid=1DPI3I200DC4G&keywords=nike%2Bhat&qid=1653664112&sprefix=nike%2Bhat%2Caps%2C87&sr=8-17&th=1&psc=1'\n",
    "\n",
    "    headers = {\"User-Agent\": \"Mozilla/5.0 (Windows NT 10.0; Win64; x64) AppleWebKit/537.36 (KHTML, like Gecko) Chrome/101.0.4951.67 Safari/537.36\", \"Accept-Encoding\":\"gzip, deflate\", \"Accept\": \"text/html,application/xhtml+xml,application/xml;q=0.9,*/*;q=0.8\", \"DNT\":\"1\",\"Connection\":\"close\", \"Upgrade-Insecure-Requests\":\"1\"}\n",
    "\n",
    "    page = requests.get(URL, headers=headers)\n",
    "\n",
    "    soup1 = BeautifulSoup(page.content, 'html.parser')\n",
    "\n",
    "    soup2 = BeautifulSoup(soup1.prettify(), 'html.parser')\n",
    "\n",
    "    title = soup2.find(id='productTitle').get_text()\n",
    "\n",
    "    price = soup2.find(id='corePriceDisplay_desktop_feature_div').get_text()\n",
    "    \n",
    "    price = price.strip()[1:6]\n",
    "    title = title.strip()\n",
    "    \n",
    "    today = datetime.date.today()\n",
    "    print(today)\n",
    "    \n",
    "    header = ['Title', 'Price', 'Date']\n",
    "    data = [title, price, today]\n",
    "    \n",
    "    with open('AmazonWebScrapingDataset.csv', 'a+', newline='', encoding='UTF8') as f:\n",
    "        writer = csv.writer(f)\n",
    "        writer.writerow(data)\n",
    "        \n",
    "# If you would like to set a notifier\n",
    "\n",
    "    #if(price < XX):\n",
    "        #send_mail\n",
    "    "
   ]
  },
  {
   "cell_type": "code",
   "execution_count": null,
   "id": "de1e68e7",
   "metadata": {},
   "outputs": [],
   "source": [
    "# Automating Price Checker - adjust time sleep as needed (60sec/min; 3,600 sec/hr; 86,400sec/day)\n",
    "while(True):\n",
    "    check_price()\n",
    "    time.sleep()"
   ]
  },
  {
   "cell_type": "code",
   "execution_count": null,
   "id": "4cfe7018",
   "metadata": {},
   "outputs": [],
   "source": [
    "df = pd.read_csv(r'C:\\Users\\Administrator\\AmazonWebScrapingDataset.csv')\n",
    "\n",
    "print(df)"
   ]
  },
  {
   "cell_type": "code",
   "execution_count": null,
   "id": "7c9bee9a",
   "metadata": {},
   "outputs": [],
   "source": [
    "# Have an email send to you with an alert referencing notifier from above. Replace email, password and price point accordingly\n",
    "\n",
    "#def send_mail():\n",
    "    #server = smtplib.SMTP_SSL('smtp.gmail.com', 465)\n",
    "    #server.ehlo()\n",
    "    #server.starttls()\n",
    "    #server.ehlo()\n",
    "    #server.login('ABC123@gmail.com','password123')\n",
    "    \n",
    "    #subject = \"The hat you want is below $XX! Buy it now!\"\n",
    "    #body = \"Will, the moment you've been waiting for has arrived. Buy this awesome hat now!\"\n",
    "    \n",
    "    #msg = f\"Subject: {subject}\\n\\n{body}\"\n",
    "    \n",
    "    #server.sendmail(\n",
    "        #\"ABC123@gmail.com\",\n",
    "        #msg\n",
    "    #)\n",
    "    "
   ]
  }
 ],
 "metadata": {
  "kernelspec": {
   "display_name": "Python 3 (ipykernel)",
   "language": "python",
   "name": "python3"
  },
  "language_info": {
   "codemirror_mode": {
    "name": "ipython",
    "version": 3
   },
   "file_extension": ".py",
   "mimetype": "text/x-python",
   "name": "python",
   "nbconvert_exporter": "python",
   "pygments_lexer": "ipython3",
   "version": "3.9.12"
  }
 },
 "nbformat": 4,
 "nbformat_minor": 5
}
